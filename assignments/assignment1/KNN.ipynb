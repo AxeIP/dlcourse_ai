{
  "nbformat": 4,
  "nbformat_minor": 0,
  "metadata": {
    "kernelspec": {
      "display_name": "Python 3",
      "language": "python",
      "name": "python3"
    },
    "language_info": {
      "codemirror_mode": {
        "name": "ipython",
        "version": 3
      },
      "file_extension": ".py",
      "mimetype": "text/x-python",
      "name": "python",
      "nbconvert_exporter": "python",
      "pygments_lexer": "ipython3",
      "version": "3.6.8"
    },
    "colab": {
      "name": "KNN.ipynb",
      "provenance": []
    }
  },
  "cells": [
    {
      "cell_type": "markdown",
      "metadata": {
        "id": "349OhrjRqsII",
        "colab_type": "text"
      },
      "source": [
        "# Задание 1.1 - Метод К-ближайших соседей (K-neariest neighbor classifier)\n",
        "\n",
        "В первом задании вы реализуете один из простейших алгоритмов машинного обучения - классификатор на основе метода K-ближайших соседей.\n",
        "Мы применим его к задачам\n",
        "- бинарной классификации (то есть, только двум классам)\n",
        "- многоклассовой классификации (то есть, нескольким классам)\n",
        "\n",
        "Так как методу необходим гиперпараметр (hyperparameter) - количество соседей, мы выберем его на основе кросс-валидации (cross-validation).\n",
        "\n",
        "Наша основная задача - научиться пользоваться numpy и представлять вычисления в векторном виде, а также ознакомиться с основными метриками, важными для задачи классификации.\n",
        "\n",
        "Перед выполнением задания:\n",
        "- запустите файл `download_data.sh`, чтобы скачать данные, которые мы будем использовать для тренировки\n",
        "- установите все необходимые библиотеки, запустив `pip install -r requirements.txt` (если раньше не работали с `pip`, вам сюда - https://pip.pypa.io/en/stable/quickstart/)\n",
        "\n",
        "Если вы раньше не работали с numpy, вам может помочь tutorial. Например этот:  \n",
        "http://cs231n.github.io/python-numpy-tutorial/"
      ]
    },
    {
      "cell_type": "code",
      "metadata": {
        "id": "VY3wbw9OqsIL",
        "colab_type": "code",
        "colab": {}
      },
      "source": [
        "import numpy as np\n",
        "import matplotlib.pyplot as plt\n",
        "\n",
        "%matplotlib inline\n",
        "\n",
        "%load_ext autoreload\n",
        "%autoreload 2"
      ],
      "execution_count": 0,
      "outputs": []
    },
    {
      "cell_type": "code",
      "metadata": {
        "id": "IgnZGtuRvk7B",
        "colab_type": "code",
        "colab": {}
      },
      "source": [
        "!git "
      ],
      "execution_count": 0,
      "outputs": []
    },
    {
      "cell_type": "code",
      "metadata": {
        "id": "8QcnD5UiqsIR",
        "colab_type": "code",
        "colab": {}
      },
      "source": [
        "from dataset import load_svhn\n",
        "from knn import KNN\n",
        "from metrics import binary_classification_metrics, multiclass_accuracy"
      ],
      "execution_count": 0,
      "outputs": []
    },
    {
      "cell_type": "markdown",
      "metadata": {
        "id": "S1o4xMtuqsIX",
        "colab_type": "text"
      },
      "source": [
        "# Загрузим и визуализируем данные\n",
        "\n",
        "В задании уже дана функция `load_svhn`, загружающая данные с диска. Она возвращает данные для тренировки и для тестирования как numpy arrays.\n",
        "\n",
        "Мы будем использовать цифры из датасета Street View House Numbers (SVHN, http://ufldl.stanford.edu/housenumbers/), чтобы решать задачу хоть сколько-нибудь сложнее MNIST."
      ]
    },
    {
      "cell_type": "code",
      "metadata": {
        "id": "p5Dokq-TqsIZ",
        "colab_type": "code",
        "colab": {}
      },
      "source": [
        "train_X, train_y, test_X, test_y = load_svhn(\"data\", max_train=1000, max_test=100)"
      ],
      "execution_count": 0,
      "outputs": []
    },
    {
      "cell_type": "code",
      "metadata": {
        "id": "Dt_gng-pqsIe",
        "colab_type": "code",
        "colab": {}
      },
      "source": [
        "samples_per_class = 5  # Number of samples per class to visualize\n",
        "plot_index = 1\n",
        "for example_index in range(samples_per_class):\n",
        "    for class_index in range(10):\n",
        "        plt.subplot(5, 10, plot_index)\n",
        "        image = train_X[train_y == class_index][example_index]\n",
        "        plt.imshow(image.astype(np.uint8))\n",
        "        plt.axis('off')\n",
        "        plot_index += 1"
      ],
      "execution_count": 0,
      "outputs": []
    },
    {
      "cell_type": "markdown",
      "metadata": {
        "id": "uiFZTAgMqsIj",
        "colab_type": "text"
      },
      "source": [
        "# Сначала реализуем KNN для бинарной классификации\n",
        "\n",
        "В качестве задачи бинарной классификации мы натренируем модель, которая будет отличать цифру 0 от цифры 9."
      ]
    },
    {
      "cell_type": "code",
      "metadata": {
        "id": "daOItx01qsIl",
        "colab_type": "code",
        "colab": {}
      },
      "source": [
        "# First, let's prepare the labels and the source data\n",
        "\n",
        "# Only select 0s and 9s\n",
        "binary_train_mask = (train_y == 0) | (train_y == 9)\n",
        "binary_train_X = train_X[binary_train_mask]\n",
        "binary_train_y = train_y[binary_train_mask] == 0\n",
        "\n",
        "binary_test_mask = (test_y == 0) | (test_y == 9)\n",
        "binary_test_X = test_X[binary_test_mask]\n",
        "binary_test_y = test_y[binary_test_mask] == 0\n",
        "\n",
        "# Reshape to 1-dimensional array [num_samples, 32*32*3]\n",
        "binary_train_X = binary_train_X.reshape(binary_train_X.shape[0], -1)\n",
        "binary_test_X = binary_test_X.reshape(binary_test_X.shape[0], -1)"
      ],
      "execution_count": 0,
      "outputs": []
    },
    {
      "cell_type": "code",
      "metadata": {
        "id": "9N67w9zMqsIq",
        "colab_type": "code",
        "colab": {}
      },
      "source": [
        "binary_test_X.shape\n",
        "type(binary_test_X)"
      ],
      "execution_count": 0,
      "outputs": []
    },
    {
      "cell_type": "code",
      "metadata": {
        "id": "n6kr9PFmqsIw",
        "colab_type": "code",
        "colab": {}
      },
      "source": [
        "# Create the classifier and call fit to train the model\n",
        "# KNN just remembers all the data\n",
        "knn_classifier = KNN(k=1)\n",
        "knn_classifier.fit(binary_train_X, binary_train_y)"
      ],
      "execution_count": 0,
      "outputs": []
    },
    {
      "cell_type": "markdown",
      "metadata": {
        "id": "olOP2iStqsI1",
        "colab_type": "text"
      },
      "source": [
        "## Пришло время написать код! \n",
        "\n",
        "Последовательно реализуйте функции `compute_distances_two_loops`, `compute_distances_one_loop` и `compute_distances_no_loops`\n",
        "в файле `knn.py`.\n",
        "\n",
        "Эти функции строят массив расстояний между всеми векторами в тестовом наборе и в тренировочном наборе.  \n",
        "В результате они должны построить массив размера `(num_test, num_train)`, где координата `[i][j]` соотвествует расстоянию между i-м вектором в test (`test[i]`) и j-м вектором в train (`train[j]`).\n",
        "\n",
        "**Обратите внимание** Для простоты реализации мы будем использовать в качестве расстояния меру L1 (ее еще называют [Manhattan distance](https://ru.wikipedia.org/wiki/%D0%A0%D0%B0%D1%81%D1%81%D1%82%D0%BE%D1%8F%D0%BD%D0%B8%D0%B5_%D0%B3%D0%BE%D1%80%D0%BE%D0%B4%D1%81%D0%BA%D0%B8%D1%85_%D0%BA%D0%B2%D0%B0%D1%80%D1%82%D0%B0%D0%BB%D0%BE%D0%B2)).\n",
        "\n",
        "![image.png](attachment:image.png)"
      ]
    },
    {
      "cell_type": "code",
      "metadata": {
        "id": "AJzwNPGUqsI3",
        "colab_type": "code",
        "colab": {}
      },
      "source": [
        "# TODO: implement compute_distances_two_loops in knn.py\n",
        "dists = knn_classifier.compute_distances_two_loops(binary_test_X)\n",
        "print(dists[0][10])\n",
        "print(np.abs(binary_test_X[0] - binary_train_X[10]))\n",
        "assert np.isclose(dists[0, 10], np.sum(np.abs(binary_test_X[0] - binary_train_X[10])))"
      ],
      "execution_count": 0,
      "outputs": []
    },
    {
      "cell_type": "code",
      "metadata": {
        "id": "-JqQ3q1oqsI9",
        "colab_type": "code",
        "colab": {}
      },
      "source": [
        "# TODO: implement compute_distances_one_loop in knn.py\n",
        "dists = knn_classifier.compute_distances_one_loop(binary_test_X)\n",
        "print(dists[0][10])\n",
        "print(np.abs(binary_test_X[0] - binary_train_X[10]))\n",
        "\n",
        "assert np.isclose(dists[0, 10], np.sum(np.abs(binary_test_X[0] - binary_train_X[10])))\n"
      ],
      "execution_count": 0,
      "outputs": []
    },
    {
      "cell_type": "code",
      "metadata": {
        "id": "5s5z0FNtqsJC",
        "colab_type": "code",
        "colab": {}
      },
      "source": [
        "a = np.array([[1,2,3,4],[4,5,6,7]])\n",
        "b = np.array([[1,2,3,4],[4,5,6,7],[2,2,2,2],[4,4,4,4],[66,6,6,6]])\n",
        "d = a[:,None]\n",
        "c = np.sum(np.abs(d-b),axis=2)\n",
        "#c = c.sum(axis=2)\n",
        "print(c)\n",
        "\n",
        "\n",
        "e = a[0]-b\n",
        "e = e.sum(axis=1)\n",
        "print(e)\n"
      ],
      "execution_count": 0,
      "outputs": []
    },
    {
      "cell_type": "code",
      "metadata": {
        "id": "3bSSejp0qsJH",
        "colab_type": "code",
        "colab": {}
      },
      "source": [
        "# TODO: implement compute_distances_no_loops in knn.py\n",
        "dists = knn_classifier.compute_distances_no_loops(binary_test_X)\n",
        "assert np.isclose(dists[0, 10], np.sum(np.abs(binary_test_X[0] - binary_train_X[10])))\n"
      ],
      "execution_count": 0,
      "outputs": []
    },
    {
      "cell_type": "code",
      "metadata": {
        "id": "Mcjj68heqsJN",
        "colab_type": "code",
        "colab": {}
      },
      "source": [
        "# Lets look at the performance difference\n",
        "%timeit knn_classifier.compute_distances_two_loops(binary_test_X)\n",
        "%timeit knn_classifier.compute_distances_one_loop(binary_test_X)\n",
        "%timeit knn_classifier.compute_distances_no_loops(binary_test_X)"
      ],
      "execution_count": 0,
      "outputs": []
    },
    {
      "cell_type": "code",
      "metadata": {
        "id": "jroqSSHVqsJS",
        "colab_type": "code",
        "colab": {}
      },
      "source": [
        "# TODO: implement predict_labels_binary in knn.py\n",
        "prediction = knn_classifier.predict(binary_test_X)\n",
        "print(prediction)\n",
        "print(binary_test_y)"
      ],
      "execution_count": 0,
      "outputs": []
    },
    {
      "cell_type": "code",
      "metadata": {
        "id": "elyjDnMGqsJY",
        "colab_type": "code",
        "colab": {}
      },
      "source": [
        "# TODO: implement binary_classification_metrics in metrics.py\n",
        "precision, recall, f1, accuracy = binary_classification_metrics(prediction, binary_test_y)\n",
        "print(\"KNN with k = %s\" % knn_classifier.k)\n",
        "print(\"Accuracy: %4.2f, Precision: %4.2f, Recall: %4.2f, F1: %4.2f\" % (accuracy, precision, recall, f1)) "
      ],
      "execution_count": 0,
      "outputs": []
    },
    {
      "cell_type": "code",
      "metadata": {
        "id": "Z8Qol8cfqsJd",
        "colab_type": "code",
        "colab": {}
      },
      "source": [
        "# Let's put everything together and run KNN with k=3 and see how we do\n",
        "knn_classifier_3 = KNN(k=3)\n",
        "knn_classifier_3.fit(binary_train_X, binary_train_y)\n",
        "prediction_3 = knn_classifier_3.predict(binary_test_X)\n",
        "\n",
        "# print(prediction)\n",
        "# print(prediction_3)\n",
        "# print(binary_test_y)\n",
        "precision = 7\n",
        "precision, recall, f1, accuracy = binary_classification_metrics(prediction_3, binary_test_y)\n",
        "print(\"KNN with k = %s\" % knn_classifier_3.k)\n",
        "print(\"Accuracy: %4.2f, Precision: %4.2f, Recall: %4.2f, F1: %4.2f\" % (accuracy, precision, recall, f1)) "
      ],
      "execution_count": 0,
      "outputs": []
    },
    {
      "cell_type": "markdown",
      "metadata": {
        "id": "pxyD5W4SqsJj",
        "colab_type": "text"
      },
      "source": [
        "# Кросс-валидация (cross-validation)\n",
        "\n",
        "Попробуем найти лучшее значение параметра k для алгоритма KNN! \n",
        "\n",
        "Для этого мы воспользуемся k-fold cross-validation (https://en.wikipedia.org/wiki/Cross-validation_(statistics)#k-fold_cross-validation). Мы разделим тренировочные данные на 5 фолдов (folds), и по очереди будем использовать каждый из них в качестве проверочных данных (validation data), а остальные -- в качестве тренировочных (training data).\n",
        "\n",
        "В качестве финальной оценки эффективности k мы усредним значения F1 score на всех фолдах.\n",
        "После этого мы просто выберем значение k с лучшим значением метрики.\n",
        "\n",
        "*Бонус*: есть ли другие варианты агрегировать F1 score по всем фолдам? Напишите плюсы и минусы в клетке ниже."
      ]
    },
    {
      "cell_type": "code",
      "metadata": {
        "id": "-lbCx3AbqsJl",
        "colab_type": "code",
        "colab": {}
      },
      "source": [
        "def chunks(l, n):\n",
        "    \"\"\"Yield successive n-sized chunks from l.\"\"\"\n",
        "    for i in range(0, len(l), n):\n",
        "        yield l[i:i + n]\n",
        "#    n = max(1, n)\n",
        "#    return (l[i:i+n] for i in range(0, len(l), n))\n",
        "\n",
        "ll=[1,2,3,4,5,6,7,8,9,0,11]\n",
        "\n",
        "num = 5\n",
        "#pp=list(chunks(ll,int(len(ll)/num)))\n",
        "pp = np.array_split(ll,5)\n",
        "print(pp[2]+pp[3])\n",
        "print(pp)"
      ],
      "execution_count": 0,
      "outputs": []
    },
    {
      "cell_type": "code",
      "metadata": {
        "code_folding": [],
        "id": "OVnhI9SDqsJq",
        "colab_type": "code",
        "colab": {}
      },
      "source": [
        "# Find the best k using cross-validation based on F1 score\n",
        "num_folds = 5\n",
        "train_folds_X = []\n",
        "train_folds_y = []\n",
        "\n",
        "# TODO: split the training data in 5 folds and store them in train_folds_X/train_folds_y\n",
        "#train_folds_X = np.array_split(binary_train_X,int(len(binary_train_X)/num_folds))\n",
        "#train_folds_y = np.array_split(binary_train_y,int(len(binary_train_y)/num_folds))\n",
        "\n",
        "k_choices = [1, 2, 3, 5, 8, 10, 15, 20, 25, 50]\n",
        "k_to_f1 = {}  # dict mapping k values to mean F1 scores (int -> float)\n",
        "\n",
        "len_fold = int(len(binary_train_X)/num_folds)"
      ],
      "execution_count": 0,
      "outputs": []
    },
    {
      "cell_type": "code",
      "metadata": {
        "code_folding": [],
        "id": "pQsQx15vqsJw",
        "colab_type": "code",
        "colab": {}
      },
      "source": [
        "for k in k_choices:\n",
        "    # TODO: perform cross-validation\n",
        "    # Go through every fold and use it for testing and all other folds for training\n",
        "    # Perform training and produce F1 score metric on the validation dataset\n",
        "    # Average F1 from all the folds and write it into k_to_f1\n",
        "    #подготавливаем данные для обучения\n",
        "    F1=0\n",
        "    knn_classifier_fold = KNN(k=k)\n",
        "    for fold in range(0,num_folds):\n",
        "#        print(k, fold)\n",
        "        index = range(fold*len_fold,fold*len_fold+len_fold)\n",
        "        train_X1 = np.delete(binary_train_X,index,axis=0)\n",
        "        train_folds_X = binary_train_X[fold*len_fold:fold*len_fold+len_fold]\n",
        "        train_y1 = np.delete(binary_train_y,index,axis=0)\n",
        "        train_folds_y = binary_train_y[fold*len_fold:fold*len_fold+len_fold]\n",
        "#        print(train_X1.shape, train_folds_X.shape)\n",
        "        \n",
        "        knn_classifier_fold.fit(train_X1, train_y1)\n",
        "        prediction_fold = knn_classifier_fold.predict(train_folds_X)\n",
        "        precision, recall, f1, accuracy = binary_classification_metrics(prediction_fold, train_folds_y)\n",
        "        F1+=f1\n",
        "    pass\n",
        "    \n",
        "    k_to_f1[k]=F1/num_folds\n",
        "\n",
        "for k in sorted(k_to_f1):\n",
        "    print('k = %d, f1 = %f' % (k, k_to_f1[k]))"
      ],
      "execution_count": 0,
      "outputs": []
    },
    {
      "cell_type": "code",
      "metadata": {
        "id": "YEOg_GJtqsJ2",
        "colab_type": "code",
        "colab": {}
      },
      "source": [
        "best_k = max(k_to_f1, key=k_to_f1.get)\n",
        "print(best_k)"
      ],
      "execution_count": 0,
      "outputs": []
    },
    {
      "cell_type": "markdown",
      "metadata": {
        "id": "mcBt_2GXqsKB",
        "colab_type": "text"
      },
      "source": [
        "### Проверим, как хорошо работает лучшее значение k на тестовых данных (test data)"
      ]
    },
    {
      "cell_type": "code",
      "metadata": {
        "id": "sgw93MLoqsKF",
        "colab_type": "code",
        "colab": {}
      },
      "source": [
        "# TODO Set the best k to the best value found by cross-validation\n",
        "#best_k = \n",
        "\n",
        "best_knn_classifier = KNN(k=best_k)\n",
        "best_knn_classifier.fit(binary_train_X, binary_train_y)\n",
        "prediction = best_knn_classifier.predict(binary_test_X)\n",
        "\n",
        "precision, recall, f1, accuracy = binary_classification_metrics(prediction, binary_test_y)\n",
        "print(\"Best KNN with k = %s\" % best_k)\n",
        "print(\"Accuracy: %4.2f, Precision: %4.2f, Recall: %4.2f, F1: %4.2f\" % (accuracy, precision, recall, f1)) "
      ],
      "execution_count": 0,
      "outputs": []
    },
    {
      "cell_type": "markdown",
      "metadata": {
        "id": "aZJCMx8RqsKO",
        "colab_type": "text"
      },
      "source": [
        "# Многоклассовая классификация (multi-class classification)\n",
        "\n",
        "Переходим к следующему этапу - классификации на каждую цифру."
      ]
    },
    {
      "cell_type": "code",
      "metadata": {
        "id": "SekfEntfqsKQ",
        "colab_type": "code",
        "colab": {}
      },
      "source": [
        "# Now let's use all 10 classes\n",
        "train_X = train_X.reshape(train_X.shape[0], -1)\n",
        "test_X = test_X.reshape(test_X.shape[0], -1)\n",
        "\n",
        "knn_classifier = KNN(k=1)\n",
        "knn_classifier.fit(train_X, train_y)"
      ],
      "execution_count": 0,
      "outputs": []
    },
    {
      "cell_type": "code",
      "metadata": {
        "id": "PuFxlW7yqsKX",
        "colab_type": "code",
        "colab": {}
      },
      "source": [
        "# TODO: Implement predict_labels_multiclass\n",
        "predict = knn_classifier.predict(test_X)"
      ],
      "execution_count": 0,
      "outputs": []
    },
    {
      "cell_type": "code",
      "metadata": {
        "id": "JxiJySjrqsKb",
        "colab_type": "code",
        "colab": {}
      },
      "source": [
        "# TODO: Implement multiclass_accuracy\n",
        "accuracy = multiclass_accuracy(predict, test_y)\n",
        "print(\"Accuracy: %4.2f\" % accuracy)"
      ],
      "execution_count": 0,
      "outputs": []
    },
    {
      "cell_type": "markdown",
      "metadata": {
        "id": "8ASvF4G8qsKh",
        "colab_type": "text"
      },
      "source": [
        "Снова кросс-валидация. Теперь нашей основной метрикой стала точность (accuracy), и ее мы тоже будем усреднять по всем фолдам."
      ]
    },
    {
      "cell_type": "code",
      "metadata": {
        "id": "aBsQ6_TaqsKj",
        "colab_type": "code",
        "colab": {}
      },
      "source": [
        "# Find the best k using cross-validation based on accuracy\n",
        "num_folds = 5\n",
        "train_folds_X = []\n",
        "train_folds_y = []\n",
        "\n",
        "# TODO: split the training data in 5 folds and store them in train_folds_X/train_folds_y\n",
        "\n",
        "k_choices = [1, 2, 3, 5, 8, 10, 15, 20, 25, 50]\n",
        "k_to_accuracy = {}\n",
        "\n",
        "for k in k_choices:\n",
        "    # TODO: perform cross-validation\n",
        "    # Go through every fold and use it for testing and all other folds for validation\n",
        "    # Perform training and produce accuracy metric on the validation dataset\n",
        "    # Average accuracy from all the folds and write it into k_to_accuracy\n",
        "    pass\n",
        "\n",
        "for k in sorted(k_to_accuracy):\n",
        "    print('k = %d, accuracy = %f' % (k, k_to_accuracy[k]))"
      ],
      "execution_count": 0,
      "outputs": []
    },
    {
      "cell_type": "markdown",
      "metadata": {
        "id": "5FWZI7-HqsKo",
        "colab_type": "text"
      },
      "source": [
        "### Финальный тест - классификация на 10 классов на тестовой выборке (test data)\n",
        "\n",
        "Если все реализовано правильно, вы должны увидеть точность не менее **0.2**."
      ]
    },
    {
      "cell_type": "code",
      "metadata": {
        "id": "18T2nRiKqsKp",
        "colab_type": "code",
        "colab": {}
      },
      "source": [
        "# TODO Set the best k as a best from computed\n",
        "best_k = 1\n",
        "\n",
        "best_knn_classifier = KNN(k=best_k)\n",
        "best_knn_classifier.fit(train_X, train_y)\n",
        "prediction = best_knn_classifier.predict(test_X)\n",
        "\n",
        "# Accuracy should be around 20%!\n",
        "accuracy = multiclass_accuracy(prediction, test_y)\n",
        "print(\"Accuracy: %4.2f\" % accuracy)"
      ],
      "execution_count": 0,
      "outputs": []
    }
  ]
}